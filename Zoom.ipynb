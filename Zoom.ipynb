{
 "cells": [
  {
   "cell_type": "code",
   "execution_count": null,
   "metadata": {},
   "outputs": [
    {
     "name": "stdout",
     "output_type": "stream",
     "text": [
      "Link: https://ucla.zoom.us/j/3831677057?pwd=dlI3UE9RY2xSRzhpTVJOdHNlb0VGZz09\n",
      "Day: Monday\n",
      "Time: 03:14\n"
     ]
    }
   ],
   "source": [
    "'''\n",
    "Inputs:\n",
    "Zoom link (authorize link beforehand)\n",
    "Day of the week\n",
    "Time in XX:XX format\n",
    "'''\n",
    "\n",
    "import schedule\n",
    "import time\n",
    "from selenium import webdriver\n",
    "\n",
    "link = input(\"Link: \")\n",
    "day = input(\"Day: \")\n",
    "when = input(\"Time: \")\n",
    "\n",
    "def job():\n",
    "    options = webdriver.ChromeOptions() \n",
    "    options.add_argument(\"user-data-dir=C:\\\\Users\\\\Andrew\\\\AppData\\\\Local\\\\Google\\\\Chrome\\\\User Data\\\\New\")\n",
    "    driver = webdriver.Chrome(executable_path = \"C:\\Drivers\\Chrome_driver\\chromedriver\", options = options)\n",
    "    driver.get(link)\n",
    "    time.sleep(1)\n",
    "    driver.close()\n",
    "        \n",
    "exec(\"schedule.every().\" + day.lower() + \".at(when).do(job)\")\n",
    "\n",
    "while True:\n",
    "    schedule.run_pending()\n",
    "    time.sleep(1)"
   ]
  },
  {
   "cell_type": "code",
   "execution_count": null,
   "metadata": {},
   "outputs": [],
   "source": []
  }
 ],
 "metadata": {
  "kernelspec": {
   "display_name": "Python 3",
   "language": "python",
   "name": "python3"
  },
  "language_info": {
   "codemirror_mode": {
    "name": "ipython",
    "version": 3
   },
   "file_extension": ".py",
   "mimetype": "text/x-python",
   "name": "python",
   "nbconvert_exporter": "python",
   "pygments_lexer": "ipython3",
   "version": "3.7.6"
  }
 },
 "nbformat": 4,
 "nbformat_minor": 4
}
